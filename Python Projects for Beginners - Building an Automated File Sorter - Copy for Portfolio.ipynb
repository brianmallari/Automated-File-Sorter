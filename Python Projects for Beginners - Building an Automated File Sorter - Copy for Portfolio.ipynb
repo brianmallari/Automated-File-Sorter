{
 "cells": [
  {
   "cell_type": "markdown",
   "id": "e403b188-9c26-4497-b16e-a8144c90c686",
   "metadata": {},
   "source": [
    "# Automatic File Sorter in File Explorer"
   ]
  },
  {
   "cell_type": "code",
   "execution_count": 115,
   "id": "00b76ef8-3683-4297-b45b-82e7526c4869",
   "metadata": {},
   "outputs": [],
   "source": [
    "import os, shutil\n",
    "\n",
    "# the os module contains miscellaneous operating system interfaces (source = https://docs.python.org/3/library/os.html)\n",
    "# shutil module enables high-level file operations (source = https://docs.python.org/3/library/shutil.html) "
   ]
  },
  {
   "cell_type": "code",
   "execution_count": 116,
   "id": "e904b59c-2923-4c23-bf4c-55ee111702e3",
   "metadata": {},
   "outputs": [],
   "source": [
    "# include a path to the target directory\n",
    "\n",
    "path = r\"C:\\Users\\Brian\\Documents\\Alex The Analyst\\Python for Beginners\\Building an Automated File Sorter in File Explorer using Python\\Dummy Folder\""
   ]
  },
  {
   "cell_type": "code",
   "execution_count": 117,
   "id": "3d6721b8-7c36-4f18-8a43-a8cd988a6cee",
   "metadata": {},
   "outputs": [
    {
     "name": "stdout",
     "output_type": "stream",
     "text": [
      "['Excel Files', 'PowerPoint Files', 'Word Files']\n"
     ]
    }
   ],
   "source": [
    "# list the files and directories in the target directory\n",
    "# Alex uses one set of files. I'm using another set of files. Overall, the process should be the same. \n",
    "# I'll just have to adjust the code to accommodate other file types that may come up in the future. \n",
    "\n",
    "content_names = os.listdir(path)\n",
    "\n",
    "# the output of method was assigned to a variable for use later on\n",
    "\n",
    "print(file_names)"
   ]
  },
  {
   "cell_type": "code",
   "execution_count": 118,
   "id": "84724671-e9f3-4c6d-b03f-aad041a0a3ef",
   "metadata": {},
   "outputs": [],
   "source": [
    "# create a list with the folder names\n",
    "\n",
    "folder_names = [\"Word Files\", \"Excel Files\", \"PowerPoint Files\"]\n",
    "\n",
    "# check if the folder name exists; if not, create the directory\n",
    "\n",
    "for folder_name in folder_names:\n",
    "    if not os.path.exists(path + \"\\\\\" + folder_name): \n",
    "        # print(path + \"\\\\\" + folder_name)\n",
    "        os.makedirs(path + \"\\\\\" + folder_name)\n",
    "\n",
    "# Alex uses a range() function for his for loop while I just had the variable loop through the list itself\n",
    "# the escape character needs to be used to use the backslash (source = https://www.w3schools.com/python/gloss_python_escape_characters.asp)\n",
    "# Alex chose to put the backslash at the end of the string assigned to the path variable. I on the other hand\n",
    "# chose to include the backslash within the body of the for loop because I don't think my OS by default has a backslash \n",
    "# at the end of the path to a directory, and I don't want to confuse myself in the future when working with paths\n",
    "# to files or folders"
   ]
  },
  {
   "cell_type": "code",
   "execution_count": 119,
   "id": "138d82ba-93e9-46d1-9d5d-dc4a9754bbfd",
   "metadata": {},
   "outputs": [],
   "source": [
    "for file in content_names:\n",
    "    if \".docx\" in file and not os.path.exists(path + \"\\\\\" + \"Word Files\" + \"\\\\\" + file):\n",
    "        shutil.move(path + \"\\\\\" + file, path + \"\\\\\" + \"Word Files\" + \"\\\\\" + file)\n",
    "    elif \".xlsx\" in file and not os.path.exists(path + \"\\\\\" + \"Excel Files\" + \"\\\\\" + file):\n",
    "        shutil.move(path + \"\\\\\" + file, path + \"\\\\\" + \"Excel Files\" + \"\\\\\" + file)\n",
    "    elif \".pptx\" in file and not os.path.exists(path + \"\\\\\" + \"PowerPoint Files\" + \"\\\\\" + file):\n",
    "        shutil.move(path + \"\\\\\" + file, path + \"\\\\\" + \"PowerPoint Files\" + \"\\\\\" + file)\n",
    "        \n",
    "# If an error shows up when rerunning this cell of code, try rerunning all other cells above this cell in sequential order. \n",
    "# Alex decided to move the contents of this cell to the cell above it. I've opted to keep this code\n",
    "# in its own cell because I can better keep track of what each part of the entire code is doing. "
   ]
  },
  {
   "cell_type": "code",
   "execution_count": 120,
   "id": "32e67f05-155f-4a03-9f15-82164b2f7b39",
   "metadata": {},
   "outputs": [],
   "source": [
    "# Alex says that it is possible to set up this Python script to run automatically at set times or set intervals. \n",
    "# I think I'd have to use PowerShell to set up a scheduled task that runs this Python script. \n",
    "# However, I'll keep things as is for now, and then update it later on as needed. "
   ]
  },
  {
   "cell_type": "code",
   "execution_count": null,
   "id": "ad02a155-7fe7-4c0c-afce-95f24a4b9f24",
   "metadata": {},
   "outputs": [],
   "source": []
  }
 ],
 "metadata": {
  "kernelspec": {
   "display_name": "Python 3 (ipykernel)",
   "language": "python",
   "name": "python3"
  },
  "language_info": {
   "codemirror_mode": {
    "name": "ipython",
    "version": 3
   },
   "file_extension": ".py",
   "mimetype": "text/x-python",
   "name": "python",
   "nbconvert_exporter": "python",
   "pygments_lexer": "ipython3",
   "version": "3.12.4"
  }
 },
 "nbformat": 4,
 "nbformat_minor": 5
}
